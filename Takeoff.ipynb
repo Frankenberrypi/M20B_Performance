{
 "cells": [
  {
   "cell_type": "code",
   "execution_count": 1,
   "metadata": {
    "Collapsed": "false"
   },
   "outputs": [],
   "source": [
    "import numpy as np\n",
    "import astropy.units as u"
   ]
  },
  {
   "cell_type": "markdown",
   "metadata": {
    "Collapsed": "false"
   },
   "source": [
    "# Standard ISO Atmosphere\n",
    "Only valid for altitudes below 11,000 meters"
   ]
  },
  {
   "cell_type": "code",
   "execution_count": 2,
   "metadata": {
    "Collapsed": "false"
   },
   "outputs": [],
   "source": [
    "# Input is altitude in meters, output is temperature in Kelvin and pressure in Pascal\n",
    "def ISO_atmosphere(alt):\n",
    "    '''\n",
    "    Input is altitude in meters.\n",
    "    Returns a list of (Temperature, Pressure, Density, Viscosity)\n",
    "    Units are (Kelvin, Pascals, kilograms/meter^3, Pascals * Seconds)\n",
    "    '''\n",
    "    p_sl = 101325 # Pa\n",
    "    beta = -0.0065\n",
    "    T_sl = 288.15 # K\n",
    "    g_n = 9.80665 # m/s^2\n",
    "    R = 287.05287 # J/(kg K)\n",
    "    \n",
    "    temp = T_sl - 0.0065 * alt\n",
    "    pres = p_sl * (1 + beta / T_sl * (alt - 0))**(-g_n / (beta * R))\n",
    "    dens = pres / (R * temp) # from ideal gas law\n",
    "    visc = 18.27e-6 * (291.15+120)/(temp+120) * np.power((temp/291.15), (3/2))\n",
    "    return(temp, pres, dens, visc)\n",
    "    "
   ]
  },
  {
   "cell_type": "code",
   "execution_count": 3,
   "metadata": {
    "Collapsed": "false"
   },
   "outputs": [
    {
     "data": {
      "text/plain": [
       "(288.15, 101325.0, 1.225000018124288, 1.8120567104968423e-05)"
      ]
     },
     "execution_count": 3,
     "metadata": {},
     "output_type": "execute_result"
    }
   ],
   "source": [
    "ISO_atmosphere(0)"
   ]
  },
  {
   "cell_type": "markdown",
   "metadata": {
    "Collapsed": "false"
   },
   "source": [
    "# Ground Roll\n",
    "Ground roll distance, equation 17.99 from Aircraft Design: A Conceptual Approach, D. P. Raymer.  \n",
    "$S_G$, ground roll distance  \n",
    "$T$, aircraft thrust -- correlate  \n",
    "$W$, aircraft weight -- input parameter  \n",
    "$\\mu$, ground rolling resistance, assume $0.03$  \n",
    "$\\rho$, air density -- input parameter  \n",
    "$S$, aircraft wing area, using $16.2 m^2$, verify with measurement ----------------------  \n",
    "$C_{L,G}$, lift coefficient in ground effect, assume $0.1$  \n",
    "$C_{D,0}$, parasitic drag coefficient  \n",
    "$K$, induced drag factor  \n",
    "$g$, gravity, $9.81 \\frac{m}{s^2}$   \n",
    "$V_i$, initial velocity, $0 \\frac{m}{s}$  \n",
    "$V_f$, final velocity  \n",
    "$$S_G = \\left(\\frac{1}{2 \\cdot g \\cdot K_A} \\right) \\cdot \\ln \\left( \\frac{K_T + K_A \\cdot V_f^2}{K_T + K_A \\cdot V_i^2} \\right)$$\n",
    "$$K_T = \\frac{T}{W} - \\mu$$\n",
    "$$K_A = \\frac{\\rho}{2(W/S)} \\cdot \\left(\\mu \\cdot C_L - C_{D,0} - K \\cdot C_L^2 \\right)$$"
   ]
  },
  {
   "cell_type": "code",
   "execution_count": 4,
   "metadata": {
    "Collapsed": "false"
   },
   "outputs": [],
   "source": [
    "mu = 0.03\n",
    "S = 16.2 * u.m**2\n",
    "C_LG = 0.1\n",
    "g = 9.81 * u.m / u.s**2\n",
    "V_i = 0 * u.m / u.s"
   ]
  },
  {
   "cell_type": "code",
   "execution_count": null,
   "metadata": {
    "Collapsed": "false"
   },
   "outputs": [],
   "source": [
    "def S_G"
   ]
  },
  {
   "cell_type": "markdown",
   "metadata": {
    "Collapsed": "false"
   },
   "source": [
    "## Parasitic Drag Coefficient\n",
    "$C_{fe}$, equivalent skin friction coefficient, $0.0055$  \n",
    "$S_{wet}$, wetted area  \n",
    "Assuming wetted area is 3 times wing reference area.  \n",
    "From equation 12.23\n",
    "$$ C_{D,0} = C_{fe} \\cdot \\frac{S_{wet}}{S} $$"
   ]
  },
  {
   "cell_type": "code",
   "execution_count": 5,
   "metadata": {
    "Collapsed": "false"
   },
   "outputs": [
    {
     "data": {
      "text/plain": [
       "0.0165"
      ]
     },
     "execution_count": 5,
     "metadata": {},
     "output_type": "execute_result"
    }
   ],
   "source": [
    "C_D0 = 0.0055 * 3\n",
    "C_D0"
   ]
  },
  {
   "cell_type": "markdown",
   "metadata": {
    "Collapsed": "false"
   },
   "source": [
    "##  Induced Drag Factor, K\n",
    "$A$, aspect ratio, approximate as $\\frac{10.67 m}{1.5 m}$, verify with measurement ------------------------------  \n",
    "$e$, efficiency factor, assume $0.8$  \n",
    "From equation 12.48  \n",
    "$$K = \\frac{1}{\\pi \\cdot A \\cdot e}$$"
   ]
  },
  {
   "cell_type": "code",
   "execution_count": 6,
   "metadata": {
    "Collapsed": "false"
   },
   "outputs": [],
   "source": [
    "A = 10.67 / 1.5\n",
    "e = 0.8"
   ]
  },
  {
   "cell_type": "code",
   "execution_count": 7,
   "metadata": {
    "Collapsed": "false"
   },
   "outputs": [
    {
     "data": {
      "text/plain": [
       "0.055935429858913546"
      ]
     },
     "execution_count": 7,
     "metadata": {},
     "output_type": "execute_result"
    }
   ],
   "source": [
    "K = 1 / (np.pi * A * e)\n",
    "K"
   ]
  },
  {
   "cell_type": "markdown",
   "metadata": {
    "Collapsed": "false"
   },
   "source": [
    "## Final Velocity, $V_f = V_r$\n",
    "$V_{so}$, stall speed, $57 \\frac{mi}{hr}$\n",
    "$$V_r = 1.2 * V_{so}$$"
   ]
  },
  {
   "cell_type": "code",
   "execution_count": 8,
   "metadata": {
    "Collapsed": "false"
   },
   "outputs": [],
   "source": [
    "V_f = 1.2 * 57 * u.imperial.mile / u.hr"
   ]
  },
  {
   "cell_type": "code",
   "execution_count": 9,
   "metadata": {},
   "outputs": [
    {
     "data": {
      "text/latex": [
       "$68.4 \\; \\mathrm{\\frac{mi}{h}}$"
      ],
      "text/plain": [
       "<Quantity 68.4 mi / h>"
      ]
     },
     "execution_count": 9,
     "metadata": {},
     "output_type": "execute_result"
    }
   ],
   "source": [
    "V_f"
   ]
  },
  {
   "cell_type": "code",
   "execution_count": null,
   "metadata": {},
   "outputs": [],
   "source": []
  }
 ],
 "metadata": {
  "kernelspec": {
   "display_name": "Python 3",
   "language": "python",
   "name": "python3"
  },
  "language_info": {
   "codemirror_mode": {
    "name": "ipython",
    "version": 3
   },
   "file_extension": ".py",
   "mimetype": "text/x-python",
   "name": "python",
   "nbconvert_exporter": "python",
   "pygments_lexer": "ipython3",
   "version": "3.8.1"
  }
 },
 "nbformat": 4,
 "nbformat_minor": 4
}
